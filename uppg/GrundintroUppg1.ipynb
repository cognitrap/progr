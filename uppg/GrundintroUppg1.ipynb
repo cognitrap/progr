{
 "cells": [
  {
   "cell_type": "markdown",
   "metadata": {},
   "source": [
    "**Uppgift 2**"
   ]
  },
  {
   "cell_type": "code",
   "execution_count": 2,
   "metadata": {},
   "outputs": [
    {
     "name": "stdout",
     "output_type": "stream",
     "text": [
      "Programmet undersöker om 2 heltal går jämnt upp i varandra.\n"
     ]
    },
    {
     "name": "stdin",
     "output_type": "stream",
     "text": [
      "Ange det minsta heltalet  12\n",
      "Ange det största heltalet  66\n"
     ]
    },
    {
     "name": "stdout",
     "output_type": "stream",
     "text": [
      "Det är False att  12  går jämnt upp i  66\n"
     ]
    }
   ],
   "source": [
    "print(\"Programmet undersöker om 2 heltal går jämnt upp i varandra.\")\n",
    "a = int(input(\"Ange det minsta heltalet \"))\n",
    "b = int(input(\"Ange det största heltalet \"))\n",
    "\n",
    "print(\"Det är\", b//a == b/a, \"att \", a, \" går jämnt upp i \", b)"
   ]
  },
  {
   "cell_type": "code",
   "execution_count": null,
   "metadata": {},
   "outputs": [],
   "source": []
  }
 ],
 "metadata": {
  "kernelspec": {
   "display_name": "Python [conda env:base] *",
   "language": "python",
   "name": "conda-base-py"
  },
  "language_info": {
   "codemirror_mode": {
    "name": "ipython",
    "version": 3
   },
   "file_extension": ".py",
   "mimetype": "text/x-python",
   "name": "python",
   "nbconvert_exporter": "python",
   "pygments_lexer": "ipython3",
   "version": "3.12.2"
  }
 },
 "nbformat": 4,
 "nbformat_minor": 4
}
