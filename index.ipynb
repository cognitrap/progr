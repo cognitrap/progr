{
 "cells": [
  {
   "cell_type": "markdown",
   "metadata": {},
   "source": [
    " # Programmering\n",
    "\n",
    "\n",
    "VIKTIGT! Instruktioner till hur du använder [Jupyters Notebook](Jupyters-Notebook.ipynb) (klicka på länken)\n",
    "\n",
    "Angående kapitelindelningen:\n",
    "\n",
    "Nivå 1 innehåller smakbitar från några olika delar av python. Inte så systematiskt men saker som man kan behöva för att komma igång med att skriva program.\n",
    "\n",
    "Nivå 2 innehåller fördjupningar av kommandon och begrepp i nivå 1.\n",
    "\n",
    "Nivå 3 innehåller en mer systematisk översikt över vissa kommandon och begrepp. Men också en fördjupad användning i samband med olika matematiska begrepp. Ej klar.\n",
    "\n",
    "Rubriker över nivå 3 är mer ordnat efter matematiska teman än programmering i sig.\n",
    "\n",
    "Nivå 1 och 2 utgör en grundläggande kurs.\n",
    "\n",
    "\n",
    "## 1 Grundläggande, Nivå 1\n",
    "\n",
    "### [1.1 Introduktion](GrundIntro.ipynb) <font size=\"2\"> antal uppgifter (4)</font>\n",
    "\n",
    "### [1.2 Variabeltilldelning: x=](Variabeltilldelning.ipynb) <font size=\"2\"> (2)</font>\n",
    "\n",
    "### [1.3 Att göra val: if...else](ValIf.ipynb) <font size=\"2\"> (6)</font>\n",
    "\n",
    "### [1.4 input()](input.ipynb) <font size=\"2\"> (1)</font>\n",
    "\n",
    "### [1.5 Ett Enkelt Program](EttEnkeltProgram.ipynb)\n",
    "\n",
    "### [1.6 Importera färdiga Moduler](Moduler.ipynb) <font size=\"2\"> (1)</font>\n",
    "\n",
    "### [1.7 Loopar och lite om listor](Loopar.ipynb) <font size=\"2\"> (6)</font>\n",
    "\n",
    "### [1.8 Komplexa tal](Komplexatal.ipynb) <font size=\"2\"> (2)</font>\n",
    "\n",
    "\n",
    "\n",
    "## 2 Nivå 2\n",
    "\n",
    "### [2.1 Listor](Listor2.ipynb) <font size=\"2\"> (7)</font>\n",
    "\n",
    "### [2.2 Strängar](strings2.ipynb) <font size=\"2\"> (2)</font>\n",
    "\n",
    "### [2.3 Programexempel](ProgramexN2.ipynb)\n",
    "\n",
    "### [2.4 Funktioner](functions2.ipynb) <font size=\"2\"> (4)</font>\n",
    "\n",
    "### [2.5 Plotta](plot2.ipynb) <font size=\"2\"> (8)</font>\n",
    "\n",
    "### [2.6 Skriva och läsa filer](input2.ipynb) <font size=\"2\"> (2)</font>\n",
    "\n",
    "### [2.7 Egna Moduler](moduler2.ipynb) <font size=\"2\"> (2)</font>\n",
    "\n",
    "### [2.8 Print med formatering](print2.ipynb) <font size=\"2\"> (2)</font>\n",
    "\n",
    "### [2.9 Variablers räckvidd](namespace2.ipynb) <font size=\"2\"> (1)</font>\n",
    "\n",
    "\n",
    "## 3 Nivå 3\n",
    "\n",
    "### [3.1 Kommandon](Kommandon3.ipynb) ej klar\n",
    "\n",
    "### [3.2 Generiska problem: sökning, sortering](genproblems.ipynb)\n",
    "\n",
    "### [3.3 Plot 3D](InstruktionPlot3D.ipynb)\n",
    "\n",
    "### [3.4 Funktionsanpassningar 1](polyfit1.ipynb)\n",
    "\n",
    "### [3.5 Statistik 1](statistics1.ipynb) ej klart\n",
    "\n",
    "### [3.6 Exempel](ProgramexN3.ipynb)\n",
    "\n",
    "### [3.7 Fler datastrukturer](structured.ipynb) ej klar\n",
    "\n",
    "### [3.8 Hur plottning fungerar](PlotTheory.ipynb) ej klar\n",
    "\n",
    "### [3.9 Lösningar till polynomekvationer](Polyroot.ipynb) ej klar\n",
    "\n",
    "\n",
    "## 4 Linjär algebra\n",
    "(inte en kurs i linjär algebra)\n",
    "\n",
    "### [4.1 Vektorer och matriser: array()](array1.ipynb) <font size=\"2\"> (3)</font>\n",
    "\n",
    "### [4.2 Rita linjer och plan och vektorer](plane.ipynb)\n",
    "\n",
    "\n",
    "\n",
    "\n"
   ]
  },
  {
   "cell_type": "markdown",
   "metadata": {},
   "source": [
    "## 5 Flerdimensionell analys\n",
    "(inte en kurs i flerdimensionell analys)\n",
    "\n",
    "### [5.1 Parametriserade kurvor och ytor](Parametricplot.ipynb)\n",
    "\n",
    "### [5.2 Vektorfält](Vectorfield.ipynb)\n",
    "\n"
   ]
  },
  {
   "cell_type": "markdown",
   "metadata": {},
   "source": [
    "## 6 Symbolic och Scientific Python: sympy o scipy\n",
    "\n",
    "### [6.1 Intro, Symboler och variabler](sympy1.ipynb)\n",
    "\n",
    "### <!-- [6.2 Konstruktion av tangentplan](sympy2.ipynb)-->\n",
    "\n",
    "### [6.3 Egenvärden](eigenv.ipynb)\n",
    "\n",
    "### [6.4 Allmän kurvanpassning](funcfit.ipynb)"
   ]
  },
  {
   "cell_type": "markdown",
   "metadata": {},
   "source": [
    "## 7 Fourieranalys\n",
    "\n",
    "### [7.1 Beräkning av Fourierserie](fourier1.ipynb) <font size=\"2\"> (3)</font>\n",
    "\n",
    "### [7.2 Beräkning av Fouriertransform](fourier2.ipynb) <font size=\"2\"> (2)</font>"
   ]
  },
  {
   "cell_type": "markdown",
   "metadata": {},
   "source": [
    "## 8 Större uppgifter\n",
    "\n",
    "### [8.1 Största gemensamma delare](./storuppg/Inlämning1_GCD.pdf)\n",
    "\n",
    "### [8.2 Nollställen genom intervallhalvering](./storuppg/Inlämning4_halvering.pdf)\n",
    "\n",
    "### [8.3 Urvalssortering](./storuppg/Inlämning3_sortering.pdf)\n",
    "####   &nbsp; &nbsp; [Tidskomplexitet](./storuppg/Tidskomplexitet.pdf)\n",
    "####   &nbsp; &nbsp; [Algoritm för Urvalssortering](./storuppg/Urvalssortering_algoritm.pdf)"
   ]
  },
  {
   "cell_type": "markdown",
   "metadata": {},
   "source": [
    "## 9 Fysik\n",
    "\n",
    "### [9.1 Komplexa tal](./storuppg/Fy_Inlämning1_komplexatalht24.pdf)"
   ]
  },
  {
   "cell_type": "markdown",
   "metadata": {},
   "source": [
    "## 10 Grafiska gränssnitt, GUI\n",
    "\n",
    "### ([10.1 Widgets i form av ipywidgets(kontroller: glidare, rullgardiner etc.)](Widget.ipynb))\n",
    "\n",
    "### [10.2 Widgets från PySimpleGUI](psg.ipynb)\n",
    "\n",
    "\n",
    "\n",
    "\n"
   ]
  },
  {
   "cell_type": "markdown",
   "metadata": {},
   "source": [
    "## 11 Pandas (databehandling av större mängder)\n",
    "\n",
    "### [11.1 Introduktion](pandasintro.ipynb)"
   ]
  },
  {
   "cell_type": "markdown",
   "metadata": {},
   "source": [
    "\n",
    "###  Kladd\n",
    "\n",
    "\n",
    "((## 8 Tkinter))\n",
    "\n",
    "((### [.1 Tkinter](tk_inter1.ipynb)))\n",
    "\n",
    "### [.1 guitester](guitester1.ipynb)\n",
    "\n"
   ]
  }
 ],
 "metadata": {
  "kernelspec": {
   "display_name": "Python [conda env:base] *",
   "language": "python",
   "name": "conda-base-py"
  },
  "language_info": {
   "codemirror_mode": {
    "name": "ipython",
    "version": 3
   },
   "file_extension": ".py",
   "mimetype": "text/x-python",
   "name": "python",
   "nbconvert_exporter": "python",
   "pygments_lexer": "ipython3",
   "version": "3.12.2"
  },
  "toc-autonumbering": false
 },
 "nbformat": 4,
 "nbformat_minor": 4
}
