{
 "cells": [
  {
   "cell_type": "markdown",
   "metadata": {},
   "source": [
    "# Loopar\n"
   ]
  },
  {
   "cell_type": "markdown",
   "metadata": {},
   "source": [
    "## Men först lite om Listor\n",
    "\n",
    "En väldigt användbar datatyp är listor. Listor är en *sammansatt* datatyp ty den innehåller flera element. Förståelse för den hjälper dig att även förstå andra sammansatta datatyper.\n",
    "\n",
    "\n",
    "Vi anger en lista och ger den ett namn:"
   ]
  },
  {
   "cell_type": "code",
   "execution_count": 50,
   "metadata": {},
   "outputs": [],
   "source": [
    "L = [1, 2, 2, 5, 3, 7]"
   ]
  },
  {
   "cell_type": "markdown",
   "metadata": {},
   "source": [
    "Listan heter L och är en lista av tal omgärdad av hak-parenteser (håll reda på de olika parentestyperna). Talen kan vara lika, tex. 2, men ses som olika. I mängder kan man inte ha mer än ett tal 2; listor är således inte mängder. Mängder är också en sammansatt datatyp. I listor är positioner viktigt, det är det inte i mängder.\n",
    "\n",
    "Hur kommer vi åt talen i listan? Jo med något som påminner om index. Index skrivs i matematiken som $L_3$, där talet 3 är ett index-värde, men vid användning av datorer, som är radorienterade får man markera index på annat sätt.\n",
    "\n",
    "Observera att första talet har index 0, inte index 1!\n",
    "\n",
    "Låt oss kalla på första talet i listan, dvs. talet 1. "
   ]
  },
  {
   "cell_type": "code",
   "execution_count": 51,
   "metadata": {},
   "outputs": [
    {
     "name": "stdout",
     "output_type": "stream",
     "text": [
      "1\n"
     ]
    }
   ],
   "source": [
    "L = [1, 2, 2, 5, 3, 7]\n",
    "print(L[0])"
   ]
  },
  {
   "cell_type": "markdown",
   "metadata": {},
   "source": [
    "Och det sjätte talet i listan, som också är det sista talet. Det sjätte talet har index 5."
   ]
  },
  {
   "cell_type": "code",
   "execution_count": 52,
   "metadata": {},
   "outputs": [
    {
     "name": "stdout",
     "output_type": "stream",
     "text": [
      "7\n"
     ]
    }
   ],
   "source": [
    "print(L[5])"
   ]
  },
  {
   "cell_type": "markdown",
   "metadata": {},
   "source": [
    "En lista med 6 tal har index från 0 till 5; inte 1 till 6!"
   ]
  },
  {
   "cell_type": "markdown",
   "metadata": {},
   "source": [
    "Men det är lite mer än så. Listorna har vad man skulle kunna kalla för ett baklänges-index också. Om första talet har index 0 och andra talet index 1; vad händer om man skriver L[-1]? Jo man får då sista talet, talet 7! L[-1] ger sista talet oavsett hur lång listan är!"
   ]
  },
  {
   "cell_type": "code",
   "execution_count": 53,
   "metadata": {},
   "outputs": [
    {
     "name": "stdout",
     "output_type": "stream",
     "text": [
      "7\n"
     ]
    }
   ],
   "source": [
    "print(L[-1])"
   ]
  },
  {
   "cell_type": "markdown",
   "metadata": {},
   "source": [
    "Det går att fortsätta med negativa tal som index"
   ]
  },
  {
   "cell_type": "code",
   "execution_count": 54,
   "metadata": {},
   "outputs": [
    {
     "name": "stdout",
     "output_type": "stream",
     "text": [
      "3\n"
     ]
    }
   ],
   "source": [
    "print(L[-2])"
   ]
  },
  {
   "cell_type": "markdown",
   "metadata": {},
   "source": [
    "Kan man gå flera varv? Är kanske L[6] samma som L[0], som i moduloräkning? Det är bara att pröva, python talar om ifall du inte följer syntaxen (språkets grammatik)"
   ]
  },
  {
   "cell_type": "code",
   "execution_count": 55,
   "metadata": {},
   "outputs": [
    {
     "ename": "IndexError",
     "evalue": "list index out of range",
     "output_type": "error",
     "traceback": [
      "\u001b[0;31m---------------------------------------------------------------------------\u001b[0m",
      "\u001b[0;31mIndexError\u001b[0m                                Traceback (most recent call last)",
      "\u001b[1;32m/home/luleka/jupyternb/progr/Loopar.ipynb Cell 14\u001b[0m line \u001b[0;36m1\n\u001b[0;32m----> <a href='vscode-notebook-cell:/home/luleka/jupyternb/progr/Loopar.ipynb#X16sZmlsZQ%3D%3D?line=0'>1</a>\u001b[0m \u001b[39mprint\u001b[39m(L[\u001b[39m6\u001b[39m])\n",
      "\u001b[0;31mIndexError\u001b[0m: list index out of range"
     ]
    }
   ],
   "source": [
    "print(L[6])"
   ]
  },
  {
   "cell_type": "markdown",
   "metadata": {},
   "source": [
    "Förmodligen accepterar den L[-6] men inte L[-7]"
   ]
  },
  {
   "cell_type": "code",
   "execution_count": null,
   "metadata": {},
   "outputs": [
    {
     "name": "stdout",
     "output_type": "stream",
     "text": [
      "1\n"
     ]
    }
   ],
   "source": [
    "print(L[-6])"
   ]
  },
  {
   "cell_type": "code",
   "execution_count": null,
   "metadata": {},
   "outputs": [
    {
     "ename": "IndexError",
     "evalue": "list index out of range",
     "output_type": "error",
     "traceback": [
      "\u001b[0;31m---------------------------------------------------------------------------\u001b[0m",
      "\u001b[0;31mIndexError\u001b[0m                                Traceback (most recent call last)",
      "Cell \u001b[0;32mIn[4], line 1\u001b[0m\n\u001b[0;32m----> 1\u001b[0m \u001b[39mprint\u001b[39m(L[\u001b[39m-\u001b[39m\u001b[39m7\u001b[39m])\n",
      "\u001b[0;31mIndexError\u001b[0m: list index out of range"
     ]
    }
   ],
   "source": [
    "print(L[-7])"
   ]
  },
  {
   "cell_type": "markdown",
   "metadata": {},
   "source": [
    "Ok, vi fattar. \n",
    "\n",
    "\n",
    "Nämnas bör också att en tom lista skrivs `[]`; kan ibland vara bra att börja med en tom lista och sedan lägga till efterhand. Antalet element i en lista ges av `len(L)`, som i length."
   ]
  },
  {
   "cell_type": "code",
   "execution_count": null,
   "metadata": {},
   "outputs": [
    {
     "name": "stdout",
     "output_type": "stream",
     "text": [
      "[]\n",
      "6\n"
     ]
    }
   ],
   "source": [
    "L = []\n",
    "print(L)\n",
    "\n",
    "M = [3, 5, 1, 7, 6, 6]\n",
    "print(len(M))"
   ]
  },
  {
   "cell_type": "markdown",
   "metadata": {},
   "source": [
    "Listor kan innehålla annat än tal."
   ]
  },
  {
   "cell_type": "code",
   "execution_count": null,
   "metadata": {},
   "outputs": [
    {
     "name": "stdout",
     "output_type": "stream",
     "text": [
      "2.3 True a\n"
     ]
    }
   ],
   "source": [
    "L = [\"a\", 2.3, True]  # sträng, flyttal, boolsk\n",
    "print(L[1], L[2], L[0])"
   ]
  },
  {
   "cell_type": "markdown",
   "metadata": {},
   "source": [
    "Listor behandlas djupare i 2.1. NU har vi bara tagit upp det vi behöver för att introducera loopar."
   ]
  },
  {
   "cell_type": "markdown",
   "metadata": {},
   "source": [
    "## Enkla loopar\n",
    "\n",
    "Att upprepa kod-rader i ett program är vanligt. Ibland ska de upprepas ett fixt antal gånger, ibland ska de upprepas tills ett visst vilkor är uppfyllt. Säg att du vill beräkna roten ur heltalen från 1 till 5. Följande kod gör det, men det är inte smart:\n",
    "\n",
    "```\n",
    "a = m.sqrt(1)\n",
    "b = m.sqrt(2)\n",
    "c = m.sqrt(3)\n",
    "d = m.sqrt(4)\n",
    "e = m.sqrt(5)\n",
    "```\n",
    "\n",
    "Så skriver man *aldrig* utan man utnyttjar kommandon för just loopar.\n",
    "\n",
    "\n",
    "\n",
    "Vi tittar nu på upprepningar där antalet gånger upprepning ska ske är *givet på förhand*. I regel används for-loopar för detta.\n",
    "\n",
    "Den allmänna formen kan illustreras av"
   ]
  },
  {
   "cell_type": "code",
   "execution_count": null,
   "metadata": {},
   "outputs": [
    {
     "name": "stdout",
     "output_type": "stream",
     "text": [
      "1\n",
      "3\n",
      "5\n",
      "7\n"
     ]
    }
   ],
   "source": [
    "for t in [1,3,5,7]:\n",
    "    print(t)"
   ]
  },
  {
   "cell_type": "markdown",
   "metadata": {},
   "source": [
    "Men vi kan också skapa listan före for-loopen."
   ]
  },
  {
   "cell_type": "code",
   "execution_count": null,
   "metadata": {},
   "outputs": [
    {
     "name": "stdout",
     "output_type": "stream",
     "text": [
      "1\n",
      "3\n",
      "5\n",
      "7\n"
     ]
    }
   ],
   "source": [
    "L = [1, 3, 5, 7]\n",
    "\n",
    "for t in L:\n",
    "    print(t)"
   ]
  },
  {
   "cell_type": "markdown",
   "metadata": {},
   "source": [
    "Vad är det som händer?\n",
    "\n",
    "Först skapar vi en lista med `L = [1, 3, 5, 7]`.\n",
    "\n",
    "Sedan kommer kommandot `for t in L:`\n",
    "Den ska läsas som att: gå igenom listan med början på index 0, sätt `t = L[0]`.\n",
    "Därefter öka index ett steg, sätt `t = L[1]`. Osv.\n",
    "t erhåller, steg för  steg (index), värdena i listan L. `print(t)` utförs 4 gånger i exemplet ovan.\n",
    "\n",
    "Om index i ska vara samma som t så kan man sätta `L = [0, 1, 2, 3]`."
   ]
  },
  {
   "cell_type": "markdown",
   "metadata": {},
   "source": [
    "Listor kan innehålla olika datatyper (enligt tidigare). En lista är i sig en sammansatt datatyp."
   ]
  },
  {
   "cell_type": "code",
   "execution_count": null,
   "metadata": {},
   "outputs": [
    {
     "name": "stdout",
     "output_type": "stream",
     "text": [
      "hej\n",
      "hur\n",
      "mår\n",
      "du\n"
     ]
    }
   ],
   "source": [
    "G = ['hej', 'hur', 'mår', 'du']\n",
    "for l in G:\n",
    "    print(l)"
   ]
  },
  {
   "cell_type": "markdown",
   "metadata": {},
   "source": [
    "Vi gör en liten tabell."
   ]
  },
  {
   "cell_type": "code",
   "execution_count": null,
   "metadata": {},
   "outputs": [
    {
     "name": "stdout",
     "output_type": "stream",
     "text": [
      "1\n",
      "9\n",
      "25\n",
      "49\n"
     ]
    }
   ],
   "source": [
    "L = [1, 3, 5, 7]\n",
    "\n",
    "for t in L:\n",
    "    print(t**2)"
   ]
  },
  {
   "cell_type": "markdown",
   "metadata": {},
   "source": [
    "Och en större tabell."
   ]
  },
  {
   "cell_type": "code",
   "execution_count": null,
   "metadata": {},
   "outputs": [
    {
     "name": "stdout",
     "output_type": "stream",
     "text": [
      "0    0.0\n",
      "10    0.17364817766693033\n",
      "20    0.3420201433256687\n",
      "30    0.49999999999999994\n",
      "40    0.6427876096865393\n",
      "50    0.766044443118978\n",
      "60    0.8660254037844386\n",
      "70    0.9396926207859083\n",
      "80    0.984807753012208\n",
      "90    1.0\n"
     ]
    }
   ],
   "source": [
    "# Behöver sinusfunktionen och talet pi\n",
    "import math as m\n",
    "\n",
    "L = [0, 10, 20, 30, 40, 50, 60, 70, 80, 90]  # Vinklar i grader\n",
    "\n",
    "# Loop. Skriver tabell över sinusvärden, omvandlar till radianer som är förinställt\n",
    "for v in L:\n",
    "    print(v, \"  \", m.sin(v/180*m.pi)) \n",
    "    "
   ]
  },
  {
   "cell_type": "markdown",
   "metadata": {},
   "source": [
    "## Nästlade loopar 1\n",
    "\n",
    "Vi studerar loopar inuti loopar.\n",
    "\n",
    "Loopar används ofta för att generera alla möjliga kombinationer. Säg att vi ska studera en mängd siffror $\\{1, 2, 3, 4\\}$ som kombineras med en mängd färger $\\{r, g\\}$. Låt den yttre loopen gå igenom mängden $\\{1, 2, 3, 4\\}$ och den inre gå igenom mängden $\\{r, g\\}$. Programmet skapar alla mängderna $\\{1, r\\}$, $\\{1, g\\}$, $\\{2, r\\}$, $\\{2, g\\}$, $\\{3, r\\}$, $\\{3, g\\}$, $\\{4, r\\}$, $\\{4, g\\}$. Varje element i den ena mängden kombineras med varje element i den andra mängden, oavsett ordning.\n",
    "\n",
    "Väljer man att skriva ut dem i ordning, som ordnade par, får man hälften av alla möjliga ordnade par. $(1,r)\\neq(r,1)$ men $\\{1,r\\}=\\{r,1\\}$.\n",
    "\n",
    "Vi skriver 2 olika par av loopar så att elementen räknas upp i olika ordning, men  samma element skapas. Vi sätter först loopen för färger innerst och siffrorna ytterst, därefter färgerna ytterst och siffrorna innerst. \n"
   ]
  },
  {
   "cell_type": "code",
   "execution_count": null,
   "metadata": {},
   "outputs": [
    {
     "name": "stdout",
     "output_type": "stream",
     "text": [
      "1 r\n",
      "1 g\n",
      "2 r\n",
      "2 g\n",
      "3 r\n",
      "3 g\n",
      "4 r\n",
      "4 g\n",
      "\n",
      "\n",
      "1 r\n",
      "2 r\n",
      "3 r\n",
      "4 r\n",
      "1 g\n",
      "2 g\n",
      "3 g\n",
      "4 g\n",
      "Antal utskrifter  8\n"
     ]
    }
   ],
   "source": [
    "T = [1, 2, 3, 4]\n",
    "F = ['r', 'g']\n",
    "\n",
    "for t in T:\n",
    "    for f in F:\n",
    "        print(t, f)\n",
    "print('\\n')\n",
    "\n",
    "# Den inre loopen blir nu ytterst\n",
    "for f in F:\n",
    "    for t in T:\n",
    "        print(t, f)\n",
    "\n",
    "print('Antal utskrifter ', len(T)*len(F))"
   ]
  },
  {
   "cell_type": "markdown",
   "metadata": {},
   "source": [
    "Loopen genererar `len(T)*len(F)` antal utskrifter."
   ]
  },
  {
   "cell_type": "markdown",
   "metadata": {},
   "source": [
    "## range()\n",
    "\n",
    "\n",
    "Kommandot `range()` skapar list-liknande ting av heltal och används bland annat i samband med listor men även vid allmänna upprepningar. range() är en så kallad inbyggd funktion (färdig funktion) och är en så kallad iterator. Listor är också en iterator, dvs. kan användas för upprepning.\n",
    "\n",
    "Kommandot har följande struktur: `range(start, stopp, steg)`\n",
    "Men ofta används inte alla 3 parametrarna. Parametrarna start och steg behöver inte anges men stopp måste alltid anges. Skriver man `range(8)` så tolkas det automatiskt som  att stopp är 8 och att intervallet är från 0 till 7 eftersom det är *exklusive* talet som anges som stopp (detta framgår bättre när du läst om listor i 2.1). Parametrarna måste vara heltal. För float finns ett annat kommando.\n",
    "\n",
    "Kommandot range används ofta då man bara vill ha en enkel upprepning:"
   ]
  },
  {
   "cell_type": "code",
   "execution_count": null,
   "metadata": {},
   "outputs": [
    {
     "name": "stdout",
     "output_type": "stream",
     "text": [
      "0 0\n",
      "1 3\n",
      "2 6\n",
      "3 9\n",
      "4 12\n",
      "5 15\n",
      "6 18\n"
     ]
    }
   ],
   "source": [
    "for i in range(7):  # Heltal fr.o.m. 0 t.o.m. 6; inte 7\n",
    "    print(i, i*3)"
   ]
  },
  {
   "cell_type": "markdown",
   "metadata": {},
   "source": [
    "Smidigare än att arbeta med en lista, speciellt om man vill ha en lång lista.\n",
    "\n",
    "Låt oss prova lite varianter. Och undersöka vad det är för typ av objekt egentligen.\n",
    "\n",
    "`range(0,8)` är samma sak som `range(8)`\n",
    "<br/> <br/>\n",
    "\n",
    "Vi undersöker och skriver in ett steg på 2"
   ]
  },
  {
   "cell_type": "code",
   "execution_count": null,
   "metadata": {},
   "outputs": [
    {
     "name": "stdout",
     "output_type": "stream",
     "text": [
      "0 0\n",
      "2 6\n",
      "4 12\n",
      "6 18\n"
     ]
    }
   ],
   "source": [
    "for i in range(0,7,2):  # Sista blir 6\n",
    "    print(i, i*3)"
   ]
  },
  {
   "cell_type": "code",
   "execution_count": null,
   "metadata": {},
   "outputs": [
    {
     "name": "stdout",
     "output_type": "stream",
     "text": [
      "0 0\n"
     ]
    }
   ],
   "source": [
    "for i in range(0,7,8):  # Steg är större än intervallet\n",
    "    print(i, i*3)"
   ]
  },
  {
   "cell_type": "markdown",
   "metadata": {},
   "source": [
    "Bara att experimentera vidare.\n",
    "\n",
    "\n",
    "\n",
    "\n",
    "Man behöver inte stega framåt, det går bra att stega bakåt."
   ]
  },
  {
   "cell_type": "code",
   "execution_count": null,
   "metadata": {},
   "outputs": [
    {
     "name": "stdout",
     "output_type": "stream",
     "text": [
      "0\n",
      "-1\n",
      "-2\n",
      "-3\n",
      "-4\n"
     ]
    }
   ],
   "source": [
    "for i in range(0,-5,-1):\n",
    "    print(i)"
   ]
  },
  {
   "cell_type": "markdown",
   "metadata": {},
   "source": [
    "Tillbaka till looparna.\n",
    "\n",
    "## Nästlade loopar 2\n",
    "\n",
    "Nästlade loopar är vanligt vid statistiska simuleringar.\n",
    "Säg att vi ska beräkna sannolikheten att få siffersumman 11 vid kast med 5 tärningar.\n",
    "\n",
    "Vi behöver då en for-loop för att göra de 5 kasten. Sedan behövs en statistik-loop, hur många gånger vi gör experimentet att kasta 5 tärningar, för att kontrollera hur ofta vi får siffersumman 11. Kasten görs i en inre loop och statistiken i en yttre loop.\n",
    "\n",
    "\n",
    "Vi behöver ett kommando för att skapa ett slumptal. Kommandot finns i modulen random som vi importerar.\n",
    "\n",
    "`L = random.sample(range(1,7),1)`\n",
    "\n",
    "Kommandot skapar ett slumptal (heltal) mellan (inklusive) 1 och 6. Detta slumptal läggs i en lista (med bara ett element dock)."
   ]
  },
  {
   "cell_type": "code",
   "execution_count": null,
   "metadata": {},
   "outputs": [
    {
     "name": "stdout",
     "output_type": "stream",
     "text": [
      "andel med summa 11 0.0267\n",
      "267 9733 10000 10000\n"
     ]
    }
   ],
   "source": [
    "import random\n",
    "\n",
    "r = 0 # räknar antalet kast med summan 11\n",
    "f = 0 # räknar antalet kast som inte ger summan 11 (kontroll)\n",
    "\n",
    "for n in range(1, 10000+1): # 10 000 försök (med 5 tärningar).\n",
    "    sum = 0 # Lagrar summan för de 5 kasten, måste nollställas efter varje kast med 5 tärn.\n",
    "    \n",
    "    for t in range(1, 6): # Vi slumpar 5 tärningskast\n",
    "        L = random.sample(range(1, 7), 1) # Slumpas 1 kast, loopen ger 5 kast\n",
    "        sum = sum + L[0]  # Sista raden i t-loopen\n",
    "    \n",
    "    if sum == 11: # Detta är första raden utanför den inre for-loopen men innanför den yttre for-loopen\n",
    "        r = r + 1 # Siffersumman var 11\n",
    "    else:\n",
    "        f = f + 1 # Siffersumman var inte 11\n",
    "        \n",
    "print(\"andel med summa 11\", r/(r + f)) # Första raden utanför båda looparna\n",
    "print(r, f, r+f, n)"
   ]
  },
  {
   "cell_type": "markdown",
   "metadata": {},
   "source": [
    "## while loopen\n",
    "\n",
    "En annan typ av loop, mer inriktad på att loopa tills ett villkor inte är uppfyllt längre. for-loopen var lättast att använda då vi har ett förutbestämt antal upprepningar som ska genomföras. Den ena loop-typen kan dock alltid ersätta den andra men ofta är den ene logiskt bättre än den andra.\n",
    "\n",
    "En while-loop utförs så länge ett villkor är sant. Vad producerar följande loop?"
   ]
  },
  {
   "cell_type": "code",
   "execution_count": null,
   "metadata": {},
   "outputs": [
    {
     "name": "stdout",
     "output_type": "stream",
     "text": [
      "1\n",
      "2\n",
      "3\n",
      "4\n",
      "5\n"
     ]
    }
   ],
   "source": [
    "i = 1\n",
    "\n",
    "while i < 6:  # första gången är i=1, nästa gång har i ökats med 1, denna ökning sker inuti loopen\n",
    "    print(i)\n",
    "    i = i + 1  # i ökas nu med 1, eftersom detta är sista raden med indrag återgår \n",
    "               # python till while-raden och har det nya värdet på i med sig"
   ]
  },
  {
   "cell_type": "markdown",
   "metadata": {},
   "source": [
    "Du bör köra while-loopen för hand för att bli säker på hur den fungerar. Använd papper och penna.\n",
    "\n",
    "De olika typerna av loopar har olika fördelar och nackdelar. Både for-loopen och while-loopen avslutas med att indraget upphör. Det finns inget kommando som anger slutet!\n",
    "\n",
    "Om en loop beror på en inmatning kan det vara en fördel med en while-loop:"
   ]
  },
  {
   "cell_type": "code",
   "execution_count": null,
   "metadata": {},
   "outputs": [],
   "source": [
    "n = int(input('Ange antalet tal som ska summeras:'))\n",
    "sum = 0; t = n\n",
    "while n > 0:\n",
    "    sum = sum + n\n",
    "    n = n - 1\n",
    "print('Summan av ',t,' tal är ',sum)"
   ]
  },
  {
   "cell_type": "markdown",
   "metadata": {},
   "source": [
    "Men det går att göra med en for-loop:"
   ]
  },
  {
   "cell_type": "code",
   "execution_count": null,
   "metadata": {},
   "outputs": [
    {
     "name": "stdout",
     "output_type": "stream",
     "text": [
      "Ange antalet tal som ska summeras: 6\n",
      "Summan av  6  tal är  21\n",
      "Summan av  6  tal är  21\n"
     ]
    }
   ],
   "source": [
    "# Skriver båda typerna av loop för att det ska vara lättare att jämföra\n",
    "\n",
    "n = int(input('Ange antalet tal som ska summeras:'))\n",
    "t = n\n",
    "# for-loop\n",
    "sum = 0; \n",
    "for i in range(n+1):\n",
    "    sum=sum+i\n",
    "print('Summan av ',t,' tal är ',sum)\n",
    "\n",
    "# while-loop (som tidigare)\n",
    "sum=0\n",
    "while n > 0:\n",
    "    sum = sum + n\n",
    "    n = n - 1\n",
    "print('Summan av ',t,' tal är ',sum)"
   ]
  },
  {
   "cell_type": "markdown",
   "metadata": {},
   "source": [
    "\n",
    "\n",
    "\n",
    "\n",
    "Exempel.\n",
    "Säg att vi ska beräkna medelvärde av genererade *slumptal* i en lista med 100 tal så länge de är större än 10. Vi vet alltså inte hur många gånger vi ska utföra en additions-loop. Kan kännas som att while är lämpligt. Men med hjälp av `break` kan man härma en while-loop. Det anses dock vara sämre att använda `break` eftersom det tyder på att programmeraren inte har förstått logiken eller att programmeraren helt enkelt inte har kontroll. Vet man avbrottsvillkoret kan man använda while."
   ]
  },
  {
   "cell_type": "code",
   "execution_count": null,
   "metadata": {},
   "outputs": [
    {
     "name": "stdout",
     "output_type": "stream",
     "text": [
      "Antal tal: 8 medel:  45.875\n",
      "Antal tal: 8 medel:  45.875\n"
     ]
    }
   ],
   "source": [
    "import random\n",
    "L = random.sample(range(1,101), 100) # Tal från 1 till 100, 100 stycken alla olika\n",
    "#L=[55,55,65,65,50,60] # En enkel lista att testa på\n",
    "#L=[10,30,40]  # Bra exempel på test som man kan göra. Vad händer om 1:a talet inte är större än 10?\n",
    "#L=[30,40,50]  # Vad händer om inga tal är <=10?\n",
    "\n",
    "# while-loop\n",
    "max = len(L)\n",
    "sum = 0\n",
    "i = 0\n",
    "while i < max and L[i] > 10:\n",
    "    sum = sum + L[i]\n",
    "    i = i + 1\n",
    "\n",
    "if i == 0: \n",
    "    print(\"Första talet var 10\")\n",
    "    print(\"Antal tal var 0\", \"medel:\",0)\n",
    "else:\n",
    "    medel = sum/i\n",
    "    print(\"Antal tal:\", i, \"medel: \", medel)\n",
    "\n",
    "    \n",
    "# for-loop\n",
    "sum = 0\n",
    "N = len(L)\n",
    "for i in range(N):\n",
    "    if L[i] > 10:\n",
    "        sum = sum + L[i]\n",
    "    else:\n",
    "        break  # Inte snyggt!\n",
    "\n",
    "if i == 0:\n",
    "    print(\"Första talet var 10\")\n",
    "    print(\"Antal tal var 0\", \"medel:\",0)\n",
    "else:\n",
    "    medel = sum/i\n",
    "    print(\"Antal tal:\", i, \"medel: \", medel)\n",
    "\n"
   ]
  },
  {
   "cell_type": "markdown",
   "metadata": {},
   "source": [
    "Att omvandla en for-loop till en while-loop.\n",
    "\n",
    "En for-loop\n",
    "\n",
    "```\n",
    "for x in range(5):\n",
    "     print (x)\n",
    "```\n",
    "\n",
    "omvandlas till en while-loop\n",
    "\n",
    "```\n",
    "x=0\n",
    "while x<5:\n",
    "     print (x)\n",
    "     x=x+1\n",
    "     \n",
    "```\n"
   ]
  },
  {
   "cell_type": "code",
   "execution_count": null,
   "metadata": {},
   "outputs": [
    {
     "name": "stdout",
     "output_type": "stream",
     "text": [
      "0\n",
      "1\n",
      "2\n",
      "3\n",
      "4\n",
      "\n",
      "\n",
      "0\n",
      "1\n",
      "2\n",
      "3\n",
      "4\n"
     ]
    }
   ],
   "source": [
    "for x in range(5):\n",
    "     print (x)\n",
    "        \n",
    "print(\"\\n\")\n",
    "\n",
    "x=0\n",
    "while x<5:\n",
    "    print (x)\n",
    "    x=x+1\n",
    "     "
   ]
  },
  {
   "cell_type": "markdown",
   "metadata": {},
   "source": [
    "Ytterligare ett exempel.\n",
    "\n",
    "Om vi ska räkna antalet kast med tärning tills vi får en sexa vet vi inte hur många gånger vi behöver kasta, vi kan då inte ha en fix lista. Passar bäst med while-loop.\n",
    "\n",
    "\n",
    "Här är en variant som slumpar heltal mellan(inkl.) 1 och 100 och räknar antalet försök vi behöver för att få ett tal mindre än eller lika med 10 för första gången."
   ]
  },
  {
   "cell_type": "code",
   "execution_count": null,
   "metadata": {},
   "outputs": [
    {
     "name": "stdout",
     "output_type": "stream",
     "text": [
      "50\n",
      "17\n",
      "82\n",
      "37\n",
      "72\n",
      "76\n",
      "37\n",
      "59\n",
      "22\n",
      "6\n",
      "På försök  10 fick vi ett tal mindre än eller lika med 10\n"
     ]
    }
   ],
   "source": [
    "import random\n",
    "\n",
    "# Ett heltal from 1 tom 100\n",
    "s = random.randint(1, 100)\n",
    "print(s)\n",
    "i = 0\n",
    "while s > 10:\n",
    "    i += 1\n",
    "    s = random.randint(1, 100)\n",
    "    print(s)\n",
    "print('På försök ', i + 1, 'fick vi ett tal mindre än eller lika med 10')\n",
    "\n"
   ]
  },
  {
   "cell_type": "markdown",
   "metadata": {},
   "source": [
    "## Mängdbyggare Listförståelse\n",
    "\n",
    "Inom matematiken finns något som kallas mängdbyggare.\n",
    "\n",
    "$\\{x|x\\in\\mathbb{R}\\}$ som är mängden av alla reella tal (läses: mängden av $x$ sådana att , $x$ tillhör mängden $\\mathbb{R}$ ) ($|$ betyder sådana att)\n",
    "\n",
    "$\\{n^{2}|n\\in\\mathbb{N}\\}$ som är mängden av kvadraten på alla naturliga tal\n",
    "\n",
    "Eller för diskreta ändliga mängder\n",
    "\n",
    "$M=\\{1,2,3,4\\}$\n",
    "\n",
    "$L=\\{n^{2}|n\\in M\\}$ som är mängden $\\{1, 4, 9, 16\\}$\n",
    "\n",
    "I python finns liknande möjligheter för listor."
   ]
  },
  {
   "cell_type": "code",
   "execution_count": null,
   "metadata": {},
   "outputs": [
    {
     "name": "stdout",
     "output_type": "stream",
     "text": [
      "[1, 4, 9, 16]\n"
     ]
    }
   ],
   "source": [
    "M = [1,2,3,4]\n",
    "L = [n**2 for n in M]\n",
    "print(L)"
   ]
  },
  {
   "cell_type": "markdown",
   "metadata": {},
   "source": [
    "Snabbt och bekvämt för att skapa listor. Fenomenet kallas för listförståelse, 'list comprehension'. Det känns som att man skriver loopen i listan."
   ]
  },
  {
   "cell_type": "markdown",
   "metadata": {},
   "source": [
    "Vi skriver ett kort program."
   ]
  },
  {
   "cell_type": "code",
   "execution_count": null,
   "metadata": {},
   "outputs": [
    {
     "name": "stdout",
     "output_type": "stream",
     "text": [
      "Kuben på udda tal\n",
      " [1, 27, 125, 343, 729, 1331, 2197, 3375, 4913, 6859, 9261, 12167, 15625, 19683, 24389, 29791, 35937, 42875, 50653, 59319, 68921, 79507, 91125, 103823, 117649, 132651, 148877, 166375, 185193, 205379, 226981, 250047, 274625, 300763, 328509, 357911, 389017, 421875, 456533, 493039, 531441, 571787, 614125, 658503, 704969, 753571, 804357, 857375, 912673, 970299]\n"
     ]
    }
   ],
   "source": [
    "L = list(range(1,100,2))  # endast udda tal\n",
    "Lkub = [x**3 for x in L]  # list comprehension\n",
    "print(\"Kuben på udda tal\\n\", Lkub)"
   ]
  },
  {
   "cell_type": "code",
   "execution_count": null,
   "metadata": {},
   "outputs": [],
   "source": []
  },
  {
   "cell_type": "markdown",
   "metadata": {},
   "source": [
    "<br />\n",
    "Vi sammanfattar for-loop och while-loop genom två bilder.\n",
    "<br /><br />\n",
    "\n",
    "\n",
    "<img src=\"./Pictures/looptyper.png\" width=400 height=400>\n",
    "\n",
    "\n",
    "\n",
    "<br />\n",
    "I bilden för while har kommando3 ersatts med en ändring av s. I en while-loop måste villkoret på något sätt påverkas inuti loopen. I for-loopen ändras den vid själv for-kommandot (t ändras)."
   ]
  },
  {
   "cell_type": "markdown",
   "metadata": {},
   "source": [
    "## Uppgifter\n",
    "\n",
    "**Uppgift 1**\n",
    "\n",
    "Gör en loop med hjälp av en lista som innehåller alla udda tal from. 1 tom. 11. Loopen ska konstruera en lista med kuberna på värdena. Skriv ut.\n",
    "\n",
    "[Lösningsförslag](./uppg/LooparUppgift1.ipynb)\n",
    "\n",
    "**Uppgift 2**\n",
    "\n",
    "Gör en loop som tar bort alla udda tal från en lista. Gör en egen lista med cirka 10 tal att testa på.\n",
    "\n",
    "[Lösningsförslag](./uppg/LooparUppgift2.ipynb)\n",
    "\n",
    "\n",
    "**Uppgift 3**\n",
    "\n",
    "Kommandot `L=random.randint(1, 3)` ger dig ett slumpmässigt tal mellan 1 och 3 (båda inklusive). Beräkna med hjälp av detta kommando sannolikheten för att få siffersumman 9 vid kast med 4 tärningar. Du måste använda `import random` för att få med modulen i programmet.\n",
    "\n",
    "[Lösningsförslag](./uppg/LooparUppgift3.ipynb)\n",
    "\n",
    "\n",
    "**Uppgift 4**\n",
    "\n",
    "Beräkna alla resultat till en multiplikations-tabell när vi räknar modulo-räkning (rest-räkning). En tabell för multiplikation modulo 5 med talen i $\\{1,2,3,4\\}$ har följande utseende (16 element).\n",
    "\n",
    "|       | **1** | **2** | **3** | **4** |\n",
    "|-------|-------|-------|-------|-------|\n",
    "| **1** | 1     | 2     | 3     | 4     |\n",
    "| **2** | 2     | 4     | 1     | 3     |\n",
    "| **3** | 3     | 1     | 4     | 2     |\n",
    "| **4** | 4     | 3     | 2     | 1     |\n",
    "\n",
    "Ex: $2 \\cdot 3 = 6 = 1$ i modulo 5 eftersom 5 går i 6 en gång och sedan blir det 1 över.\n",
    "\n",
    "Skriv en loop som skriver ut alla 36 resultaten i en tabell för multiplikation modulo 7 med talen i $\\{1,2,3,4,5,6\\}$. Kommandot för modulo-räkning är `%`. `6 % 2` ger svaret 0, medan `6 % 5` ger svaret 1.\n",
    "\n",
    "Du behöver inte skriva ut lika snyggt som ovanstående tabell.\n",
    "\n",
    "[Lösningsförslag](./uppg/LooparUppgift4.ipynb)\n"
   ]
  },
  {
   "cell_type": "markdown",
   "metadata": {},
   "source": [
    "**Uppgift 5**\n",
    "\n",
    "Om summan av ett tals delare (utom talet själv) är lika med talet själv, kallas detta tal för ett perfekt tal. Exempelvis är 6 ett perfekt tal. Talet 6 har delarna 1, 2 och 3 (och 6 räknas inte) samt gäller det att 1+2+3=6. \n",
    "\n",
    "Din uppgift är nu att skriva ett program i Python som hittar samtliga perfekta tal som är mindre än 10000. Du skriver ett program som fungerar allmänt och kör det sedan tills det skrivit ut alla tal som uppfyller kravet att vara mindre än 10000.\n",
    "\n",
    "\n",
    "Här kan du läsa om perfekta tal: https://sv.wikipedia.org/wiki/Perfekt_tal\n",
    "\n",
    "[Lösningsförslag](./uppg/LooparUppgift5.ipynb)\n"
   ]
  },
  {
   "cell_type": "markdown",
   "metadata": {},
   "source": [
    "**Uppgift 6**\n",
    "\n",
    "Skriv ett program som listar samtliga pythagoreiska tripplar, dvs alla tripplar (x, y, z) som uppfyller $x^2 + y^2=z^2$. Villkoren för talen x, y och z är att de samtliga ska vara positiva och att $x+y+z\\leq100$. Programmet kan göras rakt på (en. brute force) eller mer raffinerat.\n",
    "\n",
    "[Lösningsförslag](./uppg/LooparUppgift6.ipynb)\n"
   ]
  }
 ],
 "metadata": {
  "kernelspec": {
   "display_name": "Python [conda env:base] *",
   "language": "python",
   "name": "conda-base-py"
  },
  "language_info": {
   "codemirror_mode": {
    "name": "ipython",
    "version": 3
   },
   "file_extension": ".py",
   "mimetype": "text/x-python",
   "name": "python",
   "nbconvert_exporter": "python",
   "pygments_lexer": "ipython3",
   "version": "3.12.2"
  }
 },
 "nbformat": 4,
 "nbformat_minor": 4
}
