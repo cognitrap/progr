{
 "cells": [
  {
   "cell_type": "markdown",
   "id": "d1065505-a9b4-4f81-9427-f384f34b3110",
   "metadata": {},
   "source": [
    "### Egenvärden och egenvektorer\n",
    "\n",
    "Kommandona är ganska rakt fram.\n",
    "Börja med att importera: `from numpy import linalg as la`.\n",
    "Vi börjar med en enkel matris som vi direkt vet egenvärden för\n",
    "\n",
    "$$A = \\left(\\begin{array}{ccc}\n",
    "1 & 0 & 0\\\\\n",
    "0 & 2 & 0\\\\\n",
    "0 & 0 & 3\n",
    "\\end{array}\\right)\n",
    "$$\n",
    "\n",
    "Kommandot `la.eig(A)` ger sedan två resultat. Det första är en lista över egenvärdena. Det andra är egenvektorerna, som kolonner, i en matris."
   ]
  },
  {
   "cell_type": "code",
   "execution_count": 26,
   "id": "4124cb9a-3305-4334-8a7a-dc16df01358e",
   "metadata": {},
   "outputs": [
    {
     "name": "stdout",
     "output_type": "stream",
     "text": [
      "Egenvärden [1. 2. 3.]\n",
      "Egenvektorer, i kolonner\n",
      " [[1. 0. 0.]\n",
      " [0. 1. 0.]\n",
      " [0. 0. 1.]]\n"
     ]
    }
   ],
   "source": [
    "import numpy as np\n",
    "from numpy import linalg as la\n",
    "\n",
    "A = np.array([[1, 0, 0], [0, 2, 0], [0, 0, 3]])\n",
    "\n",
    "val, vec = la.eig(A)\n",
    "\n",
    "print(\"Egenvärden\", val)\n",
    "print(\"Egenvektorer, i kolonner\\n\", vec)"
   ]
  },
  {
   "cell_type": "markdown",
   "id": "9be42719-e027-4dcf-8433-e3e9225ed63c",
   "metadata": {},
   "source": [
    "I exemplet ser man inte att egenvektorerna står i kolonner så vi tar ett annat exempel."
   ]
  },
  {
   "cell_type": "code",
   "execution_count": 27,
   "id": "ed275db8-feb7-40f3-9f48-4964ece11b98",
   "metadata": {},
   "outputs": [
    {
     "name": "stdout",
     "output_type": "stream",
     "text": [
      "Egenvärden [4. 1.]\n",
      "Egenvektorer, i kolonner\n",
      " [[ 0.70710678 -0.4472136 ]\n",
      " [ 0.70710678  0.89442719]]\n"
     ]
    }
   ],
   "source": [
    "import numpy as np\n",
    "from numpy import linalg as la\n",
    "\n",
    "A = np.array([[3,1], [2,2]])\n",
    "\n",
    "val, vec =la.eig(A)\n",
    "\n",
    "print(\"Egenvärden\", val)\n",
    "print(\"Egenvektorer, i kolonner\\n\", vec)"
   ]
  },
  {
   "cell_type": "markdown",
   "id": "d3df7d4a-aa01-47ad-9caa-ec8b5c1dc821",
   "metadata": {},
   "source": [
    "Egenvärdena är 4 respektive 1: $\\lambda_1=4$, $\\lambda_2=1$\n",
    "\n",
    "Egenvektorerna är $v_1=(0.707, 0.707)$ och $v_2=(-0.447, 0.894)$\n",
    "\n",
    "Observera att egenvektorerna är normaliserade. Hade du räknat för hand hade du troligen svarat $v_1=(1,1)$ respektive $v_2=(1,-2)$. Observera alltså att $\\sqrt(5)\\approx 2,23$ så $1/\\sqrt(5)\\approx0,447$\n",
    "\n",
    "Naturligtvis skriver inte python egenvektorerna multiplicerat med en parameter, det förutsätts att du vet hur du ska hantera dem ;-)"
   ]
  },
  {
   "cell_type": "markdown",
   "id": "22873d0e-a0aa-44d6-b363-f2db44ffd44b",
   "metadata": {},
   "source": [
    "En praktisk detalj kan vara hur man får tag i de olika egenvektorena var för sig. I Python så ger `vec[0:2,0:1]` radindex 0 och 1 `[0:2,...]` och kolonnindex 0 `[...,0:1]`.\n",
    "\n",
    "\n",
    "`vec[0:2,1:2]` ger kolonnindex 1.\n",
    "\n",
    "För matrisen\n",
    "$$M =\n",
    "\\left(\\begin{array}{ccccc}\n",
    "1 & 5 & 2 & 13 & 0\\\\\n",
    "3 & -1 & 2 & 6 & 8\\\\\n",
    "21 & 12 & 3 & 4 & 9\n",
    "\\end{array}\\right)\n",
    "$$\n",
    "\n",
    "ger M[0:2, 0:4] \n",
    "\n",
    "$$\n",
    "\\left(\\begin{array}{ccccc}\n",
    "1 & 5 & 2 & 13\\\\\n",
    "3 & -1 & 2 & 6\n",
    "\\end{array}\\right)\n",
    "$$\n",
    "\n",
    "0:2 anger att radindex går från och med 0 till och med 1.\n",
    "0:4 anger att kolonnindex går från och med 0 till och med 3.\n"
   ]
  },
  {
   "cell_type": "code",
   "execution_count": 28,
   "id": "eac55fd3-5ecd-4f66-960d-9dbd0fe43880",
   "metadata": {},
   "outputs": [
    {
     "name": "stdout",
     "output_type": "stream",
     "text": [
      "Egenvärden [4. 1.]\n",
      "Alla Egenvektorer, i kolonner\n",
      " [[ 0.70710678 -0.4472136 ]\n",
      " [ 0.70710678  0.89442719]]\n",
      "Egenvektor 1\n",
      " [[0.70710678]\n",
      " [0.70710678]]\n",
      "Egenvektor 2\n",
      " [[-0.4472136 ]\n",
      " [ 0.89442719]]\n"
     ]
    }
   ],
   "source": [
    "import numpy as np\n",
    "from numpy import linalg as la\n",
    "\n",
    "A = np.array([[3,1], [2,2]])\n",
    "\n",
    "val, vec =la.eig(A)\n",
    "\n",
    "print(\"Egenvärden\", val)\n",
    "print(\"Alla Egenvektorer, i kolonner\\n\", vec)\n",
    "print(\"Egenvektor 1\\n\", vec[0:2,0:1])\n",
    "print(\"Egenvektor 2\\n\", vec[0:2,1:2])"
   ]
  },
  {
   "cell_type": "markdown",
   "id": "4e7176c9-8d95-43a1-8975-ee7508310877",
   "metadata": {},
   "source": [
    "Man kan förenkla kommandot lite. `vec[:,0]` respektive `vec[:,1]` som ger alla rader samt kolonn 0 respektive kolonn 1."
   ]
  },
  {
   "cell_type": "code",
   "execution_count": 29,
   "id": "0381d13e-cdd1-42d3-b8ae-674b652841a0",
   "metadata": {},
   "outputs": [
    {
     "name": "stdout",
     "output_type": "stream",
     "text": [
      "Egenvärdet  4.0  hör till egenvektorn  [0.70710678 0.70710678]\n",
      "Egenvärdet  1.0  hör till egenvektorn  [-0.4472136   0.89442719]\n",
      "dimension  (2, 2)\n",
      "dimension  (2,)\n",
      "element  -0.4472135954999579 0.8944271909999159\n",
      "element  0.7071067811865475 0.7071067811865475\n"
     ]
    }
   ],
   "source": [
    "import numpy as np\n",
    "from numpy import linalg as la\n",
    "\n",
    "A = np.array([[3,1], [2,2]])\n",
    "\n",
    "val, vec = la.eig(A)\n",
    "\n",
    "print(\"Egenvärdet \", val[0], \" hör till egenvektorn \", vec[:,0])\n",
    "print(\"Egenvärdet \", val[1], \" hör till egenvektorn \", vec[:,1])\n",
    "v = vec[:,0]\n",
    "print(\"dimension \", np.shape(vec))\n",
    "print(\"dimension \", np.shape(v))\n",
    "print(\"element \", vec[0,1], vec[1,1])\n",
    "print(\"element \", v[0], v[1])"
   ]
  },
  {
   "cell_type": "markdown",
   "id": "d2a9fc98-dd80-482f-bece-ad5f4d803d05",
   "metadata": {},
   "source": [
    "<pre>\n",
    "\n",
    "</pre>\n",
    "\n",
    "Man kan också använda transponat, det är förmodligen det enklaste i de flesta situationer.\n",
    "\n",
    "\n",
    "\n",
    "\n",
    "\n"
   ]
  },
  {
   "cell_type": "code",
   "execution_count": 30,
   "id": "66b2d489-f639-4774-8922-33845ea0b5bc",
   "metadata": {},
   "outputs": [
    {
     "name": "stdout",
     "output_type": "stream",
     "text": [
      "Transponat  [[ 0.70710678  0.70710678]\n",
      " [-0.4472136   0.89442719]]\n",
      "kolonnvektor  [0.70710678 0.70710678]\n",
      "kolonnvektor  [-0.4472136   0.89442719]\n"
     ]
    }
   ],
   "source": [
    "import numpy as np\n",
    "from numpy import linalg as la\n",
    "\n",
    "A = np.array([[3,1], [2,2]])\n",
    "\n",
    "val, vec = la.eig(A)\n",
    "\n",
    "\n",
    "vect = vec.T\n",
    "print(\"Transponat \", vect)\n",
    "\n",
    "# Egenvektorer är nu rader\n",
    "print(\"kolonnvektor \", vect[0])\n",
    "print(\"kolonnvektor \", vect[1])"
   ]
  },
  {
   "cell_type": "markdown",
   "id": "3bb83873-91f7-4817-adb7-32623a71ead9",
   "metadata": {},
   "source": [
    "<pre>\n",
    "\n",
    "</pre>\n",
    "\n",
    "Lite kontroll: $Av_1$."
   ]
  },
  {
   "cell_type": "code",
   "execution_count": 31,
   "id": "15741fd6-451a-4327-947b-9e9974225628",
   "metadata": {},
   "outputs": [
    {
     "name": "stdout",
     "output_type": "stream",
     "text": [
      "[2.82842712 2.82842712]\n"
     ]
    }
   ],
   "source": [
    "print(A@vec[:,0])"
   ]
  },
  {
   "cell_type": "markdown",
   "id": "b85540c9-bea4-40f1-9c6f-ed303ff30009",
   "metadata": {},
   "source": [
    "D.v.s. vi har $1/\\sqrt(2) \\cdot 4$.\n",
    "\n",
    "Och för den andra med egenvärdet 1."
   ]
  },
  {
   "cell_type": "code",
   "execution_count": 32,
   "id": "f406ac05-5978-44af-9d15-92a1dfe7c286",
   "metadata": {},
   "outputs": [
    {
     "name": "stdout",
     "output_type": "stream",
     "text": [
      "[-0.4472136   0.89442719]\n"
     ]
    }
   ],
   "source": [
    "print(A@vec[:,1])"
   ]
  },
  {
   "cell_type": "markdown",
   "id": "e3b16fe1-28a6-4e32-9d39-5b73c8c424bb",
   "metadata": {},
   "source": [
    "Fler exempel. Observera hur resultatet ligger: array(lista egenvärden, array)"
   ]
  },
  {
   "cell_type": "code",
   "execution_count": 33,
   "id": "e307e0bf-a4cb-4c51-b7ce-cd3ced11068a",
   "metadata": {},
   "outputs": [
    {
     "name": "stdout",
     "output_type": "stream",
     "text": [
      "EigResult(eigenvalues=array([-8.8817842e-16,  9.0000000e+00,  6.0000000e+00]), eigenvectors=array([[-9.42809042e-01,  3.33333333e-01, -1.50106593e-16],\n",
      "       [ 2.35702260e-01,  6.66666667e-01, -7.07106781e-01],\n",
      "       [ 2.35702260e-01,  6.66666667e-01,  7.07106781e-01]]))\n"
     ]
    }
   ],
   "source": [
    "import numpy as np\n",
    "\n",
    "A=np.array([[1,2,2],[2,7,1],[2,1,7]])\n",
    "\n",
    "EV=np.linalg.eig(A)  # Delar inte upp\n",
    "print(EV)  # Skriver hela returen"
   ]
  },
  {
   "cell_type": "markdown",
   "id": "6d1726d0-13fa-45d0-b2fc-29774f1385c0",
   "metadata": {},
   "source": [
    "Egenvärdena är således $\\lambda_1=0$ (avrundat),  $\\lambda_2=9$,  $\\lambda_3=6$. \n",
    "\n",
    "Egenvektorn till egenvärdet 0 är $(-0,94; 0,235; 0,235)$, för 9 är egenvektorn $(0,33; 0,67; 0,67)$ och för egenvärdet 6 har vi $(0; -0,71; 0,71)$\n",
    "\n",
    "Ofta kan man gissa eventuella heltal och sedan testa. För egenvärdet 0 är kvoten mellan första och andra komponenten 4 vilket får en att kontrollera om vektorn kan vara $(-4, 1, 1)$. För egenvärdet 9 förmodar vi $(1,2,2)$ samt för 6 egenvektorn $(0,-1;1)$.\n",
    "\n",
    "<pre>\n",
    "\n",
    "</pre>\n",
    "\n",
    "\n",
    "\n",
    "Man kan också sortera och snygga till utskriften:"
   ]
  },
  {
   "cell_type": "code",
   "execution_count": 34,
   "id": "ed504383-e2d8-47cb-8098-0f64d765b162",
   "metadata": {},
   "outputs": [
    {
     "name": "stdout",
     "output_type": "stream",
     "text": [
      "lambda1=-0.0\n",
      "lambda2=9.0\n",
      "lambda3=6.0\n",
      "egenvektor 1 [-0.9  0.2  0.2]\n",
      "egenvektor 2 [0.3 0.7 0.7]\n",
      "egenvektor 3 [-0.  -0.7  0.7]\n",
      "egenvektor 1 [-0.94280904  0.23570226  0.23570226]\n",
      "egenvektor 2 [0.33333333 0.66666667 0.66666667]\n",
      "egenvektor 3 [-1.50106593e-16 -7.07106781e-01  7.07106781e-01]\n"
     ]
    }
   ],
   "source": [
    "import numpy as np\n",
    "\n",
    "A = np.array([[1,2,2],[2,7,1],[2,1,7]])\n",
    "\n",
    "# Delade inte upp returen i 2 delar\n",
    "EV = np.linalg.eig(A)\n",
    "\n",
    "print(\"lambda1={:.1f}\".format(EV[0][0]))  # Lägg märke till indexeringen\n",
    "print(\"lambda2={:.1f}\".format(EV[0][1]))\n",
    "print(\"lambda3={:.1f}\".format(EV[0][2]))\n",
    "\n",
    "EVT = EV[1].T  # Ett bra trick; använder inte vec[:,0] denna gång\n",
    "#print(EVT)\n",
    "EVT = np.around(EVT,1)  # inte så många siffror\n",
    "print(\"egenvektor 1\", EVT[0])\n",
    "print(\"egenvektor 2\", EVT[1])\n",
    "print(\"egenvektor 3\", EVT[2])\n",
    "\n",
    "# Om man inte beräknar transponatet gäller\n",
    "print(\"egenvektor 1\", EV[1][:,0])\n",
    "print(\"egenvektor 2\", EV[1][:,1])\n",
    "print(\"egenvektor 3\", EV[1][:,2])\n"
   ]
  },
  {
   "cell_type": "markdown",
   "id": "46242bf6-b00a-4e48-a5ba-80a403c12a51",
   "metadata": {},
   "source": [
    "Observera `EVT=EV[1].T` som plockar elementet med index 1, vilket är den andra arrayn, dvs arrayn med egenvektorer. Sedan transponeras den så egenvektorerna läggs som rader i stället för kolonner.\n",
    "Med `EVT[0]`  når vi då första raden som nu är en av egenvektorerna."
   ]
  },
  {
   "cell_type": "markdown",
   "id": "ab2a36fa-1d41-464b-b8d0-7d26a77f451f",
   "metadata": {},
   "source": [
    "## Uppgifter\n",
    "\n",
    "**Uppgift 1**\n",
    "\n",
    "Utgått"
   ]
  },
  {
   "cell_type": "markdown",
   "id": "6ce9cbe1-414f-452a-b83b-91bbcd518091",
   "metadata": {},
   "source": [
    "**Uppgift 2**\n",
    "\n",
    "Undersök satsen *Om A har egenvektorn X med egenvärdet $\\lambda$ så har $A^n$ egenvärdet $\\lambda^n$* genom att använda $$ A=\\left(\\begin{array}{rr}\n",
    "2 & -1\\\\\n",
    "-3 & 0\n",
    "\\end{array}\\right) $$\n",
    "\n",
    "Skriv en rutin som skriver ut resultatet för n=1 till n=5.\n",
    "\n",
    "\n",
    "<!--[Lösningsförslag](./uppg/array1Uppgift2.ipynb)-->"
   ]
  },
  {
   "cell_type": "markdown",
   "id": "77a86026-b118-4f19-9f31-a2ba9c2cc238",
   "metadata": {},
   "source": [
    "**Uppgift 3**\n",
    "\n",
    "Basbyte och diagonalisering. Matrisen $$F=\\left(\\begin{array}{rr}\n",
    "5 & -3\\\\\n",
    "-4 & 9\n",
    "\\end{array}\\right),$$\n",
    "\n",
    "anger ett basbyte. \n",
    "\n",
    "1. Beräkna matrisen F:s egenvärden och egenvektorer. Skriv ut egenvärde med tillhörande egenvektor; inte alla egenvektorer i samma matris.\n",
    "2. Konstruera basbytesmatrisen S med egenvektorerna som kolonner.\n",
    "3. Beräkna $ S^{-1}FS=D$ och kontrollera att dess diagonalelement är egenvärdena.\n",
    "\n",
    "\n",
    "<!--[Lösningsförslag](./uppg/array1Uppgift3.ipynb)-->\n"
   ]
  },
  {
   "cell_type": "code",
   "execution_count": null,
   "id": "f5a35dff-0d8c-4e1b-86a6-9582635a9e7a",
   "metadata": {},
   "outputs": [],
   "source": []
  }
 ],
 "metadata": {
  "kernelspec": {
   "display_name": "Python [conda env:base] *",
   "language": "python",
   "name": "conda-base-py"
  },
  "language_info": {
   "codemirror_mode": {
    "name": "ipython",
    "version": 3
   },
   "file_extension": ".py",
   "mimetype": "text/x-python",
   "name": "python",
   "nbconvert_exporter": "python",
   "pygments_lexer": "ipython3",
   "version": "3.12.2"
  }
 },
 "nbformat": 4,
 "nbformat_minor": 5
}
