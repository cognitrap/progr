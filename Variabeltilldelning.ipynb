{
 "cells": [
  {
   "cell_type": "markdown",
   "metadata": {},
   "source": [
    "# Variabeltilldelning"
   ]
  },
  {
   "cell_type": "markdown",
   "metadata": {},
   "source": [
    "## Datorns minne\n",
    "\n",
    "Minne är precis som allt annat i datorn ett fysiskt tillstånd. \n",
    "Metaforiskt kan vi se minnet som en låda som något lagras i och alla lådor har en adress. Om datorn ska minnas ett tal och kunna göra något med det måste det läggas i en låda och lådan måste ha en adress så man kan hitta talet.\n",
    "\n",
    "Om jag i ett datorprogram vill använda en variabel x så bestäms (allokeras) en plats/adress där värdet på variabeln x ska läggas (den exakta adressen behöver vi inte hålla reda på, vi håller reda på variabelns nam och python håller reda på var den ligger). \n",
    "När jag skriver x i datorprogrammet läser datorn adressen och går till denna låda och där ligger värdet på x.\n",
    "\n",
    "\n",
    "<img src=\"./Pictures/variables1.png\" width=300 height=300>\n",
    "\n",
    "\n",
    "\n",
    "När jag behöver ett värde på en variabel anropar jag det symboliskt i programmet som x. Datorn hämtar värdet och lägger det på en plats i datorn där program som python kan arbeta med det; kallas för arbetsminnet. Om man i python skriver `x = 3` så lägger python talet på en adress; i exemplet nedan på adressen 235.\n",
    "\n",
    "\n",
    "Adress | Värde\n",
    "--- | ---\n",
    "... | ...\n",
    "234 |  5\n",
    "235 (x)| 3\n",
    "236 | 4\n",
    "237 | 3\n",
    "... | ...\n",
    "\n",
    "\n",
    "Detta medför att jag i programmering kan skriva kod som är `x = x + 1`.\n",
    "Hur tolkar python detta?\n",
    "\n",
    "Python läser detta enligt följande:\n",
    "\n",
    "\n",
    "1. Tolka höger sida om likhetstecknet. \n",
    "   Detta kallas för ’parsing’ (på  engelska och ofta tolkning på svenska) och är analysen som görs för att tolka följden av tecken.\n",
    "2. Höger sida. Läs innehållet på adressen för x, vilket är minneslåda 235. (se figur ovan)\n",
    "3. Tag innehållet i den lådan och lägg i arbetsminnet (ny adress, ny låda).\n",
    "4. Addera 1 till denna låda i arbetsminnet, detta är resultatet (enligt instruktionen).\n",
    "5. Lägg resultatet i ursprungliga lådan för x, dvs. på adressen 235.\n",
    "\n",
    "Inga problem med att det står x på båda sidor, likhetstecknet i python är *tilldelning*. x tilldelas värdet av x+1.\n",
    "\n",
    "Men i *matematiken* tolkar vi x = x + 1 som en ekvation, som dessutom saknar lösning. Datorn ser det som en *tilldelning*. x på vänster sida tilldelas resultatet av höger sida. \n",
    "I en del datorspråk använder man därför inte likhetstecken utan skriver tex. x := x + 1 eller x < x + 1.\n",
    "Men Python använder likhetstecken för tilldelningar.\n",
    "\n",
    "Matematikens språk är nära python, men det finns viktiga skillnader: håll reda på dem!"
   ]
  },
  {
   "cell_type": "markdown",
   "metadata": {},
   "source": [
    "Exempel att studera. Fundera först och tänk ut vad du tror kommer att hända, kör koden sedan:"
   ]
  },
  {
   "cell_type": "code",
   "execution_count": 11,
   "metadata": {},
   "outputs": [
    {
     "name": "stdout",
     "output_type": "stream",
     "text": [
      "9\n"
     ]
    }
   ],
   "source": [
    "x = 3\n",
    "x = x*x\n",
    "print(x)"
   ]
  },
  {
   "cell_type": "code",
   "execution_count": 2,
   "metadata": {},
   "outputs": [
    {
     "name": "stdout",
     "output_type": "stream",
     "text": [
      "256\n"
     ]
    }
   ],
   "source": [
    "a = 4\n",
    "a = a**a\n",
    "print(a)"
   ]
  },
  {
   "cell_type": "code",
   "execution_count": 3,
   "metadata": {},
   "outputs": [
    {
     "name": "stdout",
     "output_type": "stream",
     "text": [
      "12\n"
     ]
    }
   ],
   "source": [
    "b = 3\n",
    "b = b + b*b\n",
    "print(b)"
   ]
  },
  {
   "cell_type": "markdown",
   "metadata": {},
   "source": [
    "Nästa kommer inte att fungera däremot. Likhetstecknet i matematik är symmetriskt, $c = 3$ är samma som $3 = c$, men *tilldelning* är inte symmetrisk.\n",
    "\n",
    "Så följande enklas kommando är fel!"
   ]
  },
  {
   "cell_type": "code",
   "execution_count": 2,
   "metadata": {},
   "outputs": [
    {
     "ename": "SyntaxError",
     "evalue": "cannot assign to literal here. Maybe you meant '==' instead of '='? (3656706940.py, line 1)",
     "output_type": "error",
     "traceback": [
      "\u001b[0;36m  Cell \u001b[0;32mIn[2], line 1\u001b[0;36m\u001b[0m\n\u001b[0;31m    3 = c\u001b[0m\n\u001b[0m    ^\u001b[0m\n\u001b[0;31mSyntaxError\u001b[0m\u001b[0;31m:\u001b[0m cannot assign to literal here. Maybe you meant '==' instead of '='?\n"
     ]
    }
   ],
   "source": [
    "3 = c"
   ]
  },
  {
   "cell_type": "markdown",
   "metadata": {},
   "source": [
    "Python meddelar att den kan inte utföra tilldelning (assign).\n",
    "\n",
    "'literal' är lite svårt men det är saker som parsern/tolken kan förstå direkt, en sorts grundläggande element för python. 3 är en literal men -3 är inte en literal (tecknet framför 3 måste också tolkas alltså är det 2 saker som ska göras). 3.5 är en literal, \"dr\" är en literal men inte [1,2]. Det är inget viktigt på denna nivå men det har en specifik betydelse."
   ]
  },
  {
   "cell_type": "markdown",
   "metadata": {},
   "source": [
    "## Likhetstecken"
   ]
  },
  {
   "cell_type": "markdown",
   "metadata": {},
   "source": [
    "### Likhetstecken som en relation\n",
    "\n",
    "Likhetstecknet kan i matematik betyda flera olika saker och är ofta missuppfattat.\n",
    "Likhetstecken är vad man kallar för en ’relation’. Relationen ’lika med’ som vi betecknar med ’=’ har följande sanningsvärdestabell för heltalen 0-6. Matematikens likhetstecken är egentligen en ekvivalens, som vi ofta skriver med en dubbelpil $\\leftrightarrow$\n",
    "\n",
    "\n",
    "\n",
    "\n",
    "= | 0 | 1 | 2 | 3 | 4 | 5 | 6\n",
    "--- | --- | --- | --- | --- | --- | --- | --- \n",
    "**0** | s | f | f | f | f | f | f \n",
    "**1** | f | s | f | f | f | f | f\n",
    "**2** | f | f | s | f | f | f | f\n",
    "**3** | f | f | f | s | f | f | f\n",
    "**4** | f | f | f | f | s | f | f\n",
    "**5** | f | f | f | f | f | s | f\n",
    "**6** | f | f | f | f | f | f | s\n",
    "\n",
    "\n",
    "Matematikens likhetstecken är ett tecken som är mycket överbelastad och i mer stringenta sammanhang används olika varianter på likhetstecken för att vara tydligare. Kongruens inom geometrin är ett exempel på 'likhet' som fått en egen symbol  $\\cong$. Inom modulär aritmetik används att $7\\equiv2\\,\\textrm{mod}\\,5$ då 7 och 2 anses lika om man räknar modulo 5.\n",
    "\n",
    "\n",
    "### Symboler vid ekvationslösning\n",
    "\n",
    "Vid ekvationslösning är betydelsen av likhetstecken mycket viktig. Vi studerar hur man löser en ekvation. Vi utgår från ekvationen $ 2\\cdot x-3=7.$ Denna är nu korrekt uttryckt **matematiskt**. Säg att vi vill se om 3 är en lösning genom att använda python.\n",
    "\n",
    "Först skriver vi: $ x=3 $ (Python). Variabeln (en adress) tilldelas värdet 3.\n",
    "\n",
    "Sedan skriver vi:  $ 2 * x-3=7 $ (P). Detta kan en dator inte läsa. Det är en felkonstruerad **tilldelning**. Datorn anger ’invalid syntax’ eller 'cannot assign to operator'. Du har inte följt språkets grammatik. $2*x-3$ kan inte tilldelas talet 7.\n",
    "\n",
    "Om du ska kontrollera om det är en lösning ska du skriva $ 2*x-3==7 $. Det dubbla likhetstecknet innebär det logiska _ekvivalent med_. Detta är läsbart för python. Det logiska _ekvivalent med_ antar värdet sant om det står samma sak på båda sidor om ekvivalenstecknet/likhetstecknet, annars falskt.\n",
    "På vänster sida står det talet 3 (om x har värdet 3) och på höger sida står det 7, dessa två tal är inte lika, således falskt. Python svarar `False`\n",
    "\n",
    "\n",
    "Observera också att om du skriver 2x-3==7 så svarar python med ’invalid syntax’. Multiplikationstecknet saknas.\n",
    "\n",
    "Vi jämför vissa uttryck mellan python och matematiken.\n",
    "\n",
    "Symboler | Matematik | Python\n",
    "--- | --- | ---\n",
    "$x = 3$ | Missuppfattas som 'x är lika med 3. Egentligen en relation. Relationen är sann då x är talet 3: 3 = 3 är sant. | Tilldelning. x tilldelas värdet 3. Värdet 3 finns lagrat på adressen för variabeln x.\n",
    "$ x == 3 $ | x $ \\leftrightarrow 3 $ , egentligen samma som x = 3 i dess korrekta matematiska innebörd. | Ekvivalens. Testar om talet som ligger på adressen x är samma tal som 3. Om x inte har något värde får vi felmeddelande och inte True eller False.\n",
    "x = (2 == 3)  | | x tilldelas värdet av relationen 2 == 3, x tilldelas värdet False.\n",
    "\n",
    "\n",
    "x = 2 är en sak i matematiken, en helt annan sak i Python!"
   ]
  },
  {
   "cell_type": "markdown",
   "metadata": {},
   "source": [
    "## Flera saker på samma gång\n"
   ]
  },
  {
   "cell_type": "code",
   "execution_count": 5,
   "metadata": {},
   "outputs": [
    {
     "name": "stdout",
     "output_type": "stream",
     "text": [
      "b * c * d = 8\n"
     ]
    }
   ],
   "source": [
    "b = c = d = 2  # Flera variabler får samma värde.\n",
    "print('b * c * d =', b * c * d)"
   ]
  },
  {
   "cell_type": "code",
   "execution_count": null,
   "metadata": {},
   "outputs": [],
   "source": [
    "e = 3; f = 4  # Flera variabler får olika värden på samma rad.\n",
    "print('e =', e , '   f =', f)"
   ]
  },
  {
   "cell_type": "markdown",
   "metadata": {},
   "source": [
    "Man kan också skriva, med samma resultat; python förstår positioner:"
   ]
  },
  {
   "cell_type": "code",
   "execution_count": null,
   "metadata": {},
   "outputs": [],
   "source": [
    "e, f = 3, 4\n",
    "print(\"e =\", e , \"f =\", f)"
   ]
  },
  {
   "cell_type": "code",
   "execution_count": null,
   "metadata": {},
   "outputs": [],
   "source": [
    "a = b = 2; c = 10; d = True; e = 2 * c; f = 0\n",
    "print(a, b, c, d, e, f)"
   ]
  },
  {
   "cell_type": "markdown",
   "metadata": {},
   "source": [
    "Om en variabel är tilldelat ett tal kan man mycket väl sedan tilldela variabeln en sträng. I många andra språk går det inte att byta datatyp för en variabel, de är deklarerade att vara av en viss typ. Man kan se det som en säkerhet, men det finns inte i python. (Se dock PEP 483 och 484 angående modulen typing.)"
   ]
  },
  {
   "cell_type": "code",
   "execution_count": null,
   "metadata": {},
   "outputs": [],
   "source": [
    "# Vi låter a vara ett tal, sedan en sträng. Detta bryr sig python inte om. \n",
    "# En variabel måste inte hålla sig till en viss datatyp.\n",
    "\n",
    "a = 5\n",
    "print(type(a), a)\n",
    "\n",
    "a = \"skosnören\"\n",
    "print(type(a),a)"
   ]
  },
  {
   "cell_type": "markdown",
   "metadata": {},
   "source": [
    "## Variabelnamn\n",
    "\n",
    "En variabel kan ha ett kort namn, exempelvis x, y, t, men också längre deskriptiva namn, exempelvis Telfnr, ålder, avstånd, total_inkomst.\n",
    "\n",
    "Regler för konstruktion av variabelnam:\n",
    "\n",
    "1. Måste börja med bokstav eller understreck (_)\n",
    "2. Kan ej börja med siffra (0-9)\n",
    "3. Kan endast innehålla alfanumeriska tecken: A-Ö, a-ö, 0-9\n",
    "4. Namn skiljer på versaler och gemena bokstäver (A-ö, 0-9 och _)\n",
    "\n",
    "\n",
    "1 och 2 innebär att `anders` och `_anders` kan vara variabler, men `1anders` kan inte vara det.\n",
    "\n",
    "3 innebär att `ander#` inte kan vara en variabel. Ibland finns otydligheter här eftersom lite olika tecken ibland räknas in, som just `_`. \n",
    "\n",
    "`anders-svensson` och `anders svensson` och `anders.svensson` kan inte vara variabler.\n",
    "\n",
    "4 innebär att `anders` och `Anders` och `ANDERS` är olika variabler.\n",
    "\n",
    "\n",
    "I långa namn försöker man tydliggöra delningen. Man skriver inte `lönjanuari` utan `lön_januari` eller `LönJanuari` eller liknande.\n",
    "\n",
    "Reserverade ord kan inte användas. Variabler kan inte heta `input` eller `True` osv.\n"
   ]
  },
  {
   "cell_type": "markdown",
   "metadata": {},
   "source": [
    "## Speciella fall"
   ]
  },
  {
   "cell_type": "markdown",
   "metadata": {},
   "source": [
    "Vissa situationer är vanligt förekommande och har fått speciella uttrycksformer. Man måste inte använda dem."
   ]
  },
  {
   "cell_type": "code",
   "execution_count": null,
   "metadata": {},
   "outputs": [
    {
     "name": "stdout",
     "output_type": "stream",
     "text": [
      "3\n"
     ]
    }
   ],
   "source": [
    "a = 2\n",
    "a += 1  # Står för a = a + 1\n",
    "print(a)"
   ]
  },
  {
   "cell_type": "code",
   "execution_count": null,
   "metadata": {},
   "outputs": [],
   "source": [
    "a = 5\n",
    "a -= 2  # a = a - 2\n",
    "print(a)\n",
    "\n",
    "a = 5\n",
    "a *= 3  # a = a * 3\n",
    "print(a)\n",
    "\n",
    "a = 10\n",
    "a /= 2  # a = a / 2\n",
    "print(a)\n",
    "\n"
   ]
  },
  {
   "cell_type": "markdown",
   "metadata": {},
   "source": [
    "Observera att ordningen med operation först och likhetstecken är tydlig eftersom `a+=2` är en addition medan `a=+2` bara är en tilldelning; variabeln a tilldelas det positiva talet 2."
   ]
  },
  {
   "cell_type": "code",
   "execution_count": null,
   "metadata": {
    "tags": []
   },
   "outputs": [],
   "source": [
    "\n",
    "a =+ 1  # a tilldelas det positiva talet +1\n",
    "print(a)\n",
    "\n",
    "a =- 1  # a tilldelas det negativa talet -1\n",
    "print(a)"
   ]
  },
  {
   "cell_type": "markdown",
   "metadata": {},
   "source": [
    "Uttrycken `a = *` och `a = /` har ingen mening och ger upphov till felmeddelande."
   ]
  },
  {
   "cell_type": "markdown",
   "metadata": {},
   "source": [
    "Det fungerar med strängar också."
   ]
  },
  {
   "cell_type": "code",
   "execution_count": null,
   "metadata": {},
   "outputs": [],
   "source": [
    "a = 'cd'\n",
    "a += 'ab'\n",
    "print(a)"
   ]
  },
  {
   "cell_type": "markdown",
   "metadata": {},
   "source": [
    "Och följande fungerar också."
   ]
  },
  {
   "cell_type": "code",
   "execution_count": null,
   "metadata": {},
   "outputs": [],
   "source": [
    "C = 3\n",
    "a = 1\n",
    "a += C\n",
    "print(a)"
   ]
  },
  {
   "cell_type": "markdown",
   "metadata": {},
   "source": [
    "## Variabler?\n",
    "\n",
    "Kan hoppas över utan fara.\n",
    "\n",
    "Den korrekta terminologin för pythons variabler är objekt-referens. Variabeln x kan ses som en referens till ett objekt som har en viss adress. \n",
    "För oföränderliga (immutable) objekt (strängar, heltal, flyttal) finns det ingen urskiljbar skillnad mellan variabel och objekt-referens. \n",
    "För föränderliga (mutable) objekt (tex. listor) finns det en skillnad men för oss spelar det sällan någon roll. Kursen använder i regel termen variabel. När skillnaden är viktig påpekas detta i texten."
   ]
  },
  {
   "cell_type": "markdown",
   "metadata": {},
   "source": [
    "## Uppgifter\n",
    "\n",
    "**Uppgift 1**\n",
    "\n",
    "Vilka variabelnamn är tillåtna?\n",
    "\n",
    "1. __\n",
    "\n",
    "2. _ _\n",
    "\n",
    "3. 20200918\n",
    "\n",
    "4. Date20200918\n",
    "\n",
    "\n",
    "[Lösningsförslag](./uppg/VariabeltilldelningUppgift1.ipynb)\n",
    "\n",
    "**Uppgift 2**\n",
    "\n",
    "Vad erhålls för utskrift av följande kod?\n",
    "\n",
    "1.\n",
    "`a = 23.00`   \n",
    "`print(type(a))`\n",
    "\n",
    "2.\n",
    "`a = 2/3`  \n",
    "`print(type(a))`\n",
    "\n",
    "3.\n",
    "`a = 2//3`  \n",
    "`print(type(a))`\n",
    "\n",
    "4.\n",
    "`a = '2//3'`  \n",
    "`print(type(a))`\n",
    "\n",
    "5.\n",
    "`b = c = d = 5; b = 2*c; b += 1`  \n",
    "`print(b,c,d)`\n",
    "\n",
    "6.\n",
    "`Anders = 5`  \n",
    "`ANders = 6`  \n",
    "`ANDers = 10`  \n",
    "`print(Anders*ANDers)`  \n",
    "`Anders += ANDers`  \n",
    "`print(Anders)`\n",
    "\n",
    "\n",
    "\n",
    "[Lösningsförslag](./uppg/VariabeltilldelningUppgift2.ipynb)\n",
    "\n"
   ]
  },
  {
   "cell_type": "code",
   "execution_count": null,
   "metadata": {},
   "outputs": [],
   "source": []
  }
 ],
 "metadata": {
  "kernelspec": {
   "display_name": "Python [conda env:base] *",
   "language": "python",
   "name": "conda-base-py"
  },
  "language_info": {
   "codemirror_mode": {
    "name": "ipython",
    "version": 3
   },
   "file_extension": ".py",
   "mimetype": "text/x-python",
   "name": "python",
   "nbconvert_exporter": "python",
   "pygments_lexer": "ipython3",
   "version": "3.12.2"
  }
 },
 "nbformat": 4,
 "nbformat_minor": 4
}
